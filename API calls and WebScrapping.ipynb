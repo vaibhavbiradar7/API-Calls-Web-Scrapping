{
 "cells": [
  {
   "cell_type": "markdown",
   "metadata": {},
   "source": [
    "# API Calls"
   ]
  },
  {
   "cell_type": "code",
   "execution_count": 1,
   "metadata": {},
   "outputs": [],
   "source": [
    "import requests"
   ]
  },
  {
   "cell_type": "code",
   "execution_count": 3,
   "metadata": {},
   "outputs": [],
   "source": [
    "response = requests.get(\"http://api.open-notify.org/astros.json\")"
   ]
  },
  {
   "cell_type": "code",
   "execution_count": 5,
   "metadata": {},
   "outputs": [
    {
     "name": "stdout",
     "output_type": "stream",
     "text": [
      "200\n"
     ]
    }
   ],
   "source": [
    "print (response.status_code)"
   ]
  },
  {
   "cell_type": "code",
   "execution_count": 6,
   "metadata": {},
   "outputs": [
    {
     "name": "stdout",
     "output_type": "stream",
     "text": [
      "{'people': [{'name': 'Christina Koch', 'craft': 'ISS'}, {'name': 'Alexander Skvortsov', 'craft': 'ISS'}, {'name': 'Luca Parmitano', 'craft': 'ISS'}, {'name': 'Andrew Morgan', 'craft': 'ISS'}, {'name': 'Oleg Skripochka', 'craft': 'ISS'}, {'name': 'Jessica Meir', 'craft': 'ISS'}], 'number': 6, 'message': 'success'}\n"
     ]
    }
   ],
   "source": [
    "print (response.json())"
   ]
  },
  {
   "cell_type": "code",
   "execution_count": 7,
   "metadata": {},
   "outputs": [],
   "source": [
    "import json"
   ]
  },
  {
   "cell_type": "code",
   "execution_count": 11,
   "metadata": {},
   "outputs": [],
   "source": [
    "def jprint(obj):\n",
    "    text = json.dumps(obj,sort_keys=True, indent = 4)\n",
    "    print (text)"
   ]
  },
  {
   "cell_type": "code",
   "execution_count": 12,
   "metadata": {},
   "outputs": [
    {
     "name": "stdout",
     "output_type": "stream",
     "text": [
      "{\n",
      "    \"message\": \"success\",\n",
      "    \"number\": 6,\n",
      "    \"people\": [\n",
      "        {\n",
      "            \"craft\": \"ISS\",\n",
      "            \"name\": \"Christina Koch\"\n",
      "        },\n",
      "        {\n",
      "            \"craft\": \"ISS\",\n",
      "            \"name\": \"Alexander Skvortsov\"\n",
      "        },\n",
      "        {\n",
      "            \"craft\": \"ISS\",\n",
      "            \"name\": \"Luca Parmitano\"\n",
      "        },\n",
      "        {\n",
      "            \"craft\": \"ISS\",\n",
      "            \"name\": \"Andrew Morgan\"\n",
      "        },\n",
      "        {\n",
      "            \"craft\": \"ISS\",\n",
      "            \"name\": \"Oleg Skripochka\"\n",
      "        },\n",
      "        {\n",
      "            \"craft\": \"ISS\",\n",
      "            \"name\": \"Jessica Meir\"\n",
      "        }\n",
      "    ]\n",
      "}\n"
     ]
    }
   ],
   "source": [
    "jprint(response.json())"
   ]
  },
  {
   "cell_type": "code",
   "execution_count": 21,
   "metadata": {},
   "outputs": [],
   "source": [
    "parameters = {\n",
    "    'lat': 19.0863735,\n",
    "    'lon': 73.0042545\n",
    "}"
   ]
  },
  {
   "cell_type": "code",
   "execution_count": 24,
   "metadata": {},
   "outputs": [],
   "source": [
    "response = requests.get(\"http://api.open-notify.org/iss-pass.json\", params = parameters)"
   ]
  },
  {
   "cell_type": "code",
   "execution_count": 25,
   "metadata": {},
   "outputs": [
    {
     "name": "stdout",
     "output_type": "stream",
     "text": [
      "{\n",
      "    \"message\": \"success\",\n",
      "    \"request\": {\n",
      "        \"altitude\": 100,\n",
      "        \"datetime\": 1571097525,\n",
      "        \"latitude\": 19.0863735,\n",
      "        \"longitude\": 73.0042545,\n",
      "        \"passes\": 5\n",
      "    },\n",
      "    \"response\": [\n",
      "        {\n",
      "            \"duration\": 626,\n",
      "            \"risetime\": 1571106498\n",
      "        },\n",
      "        {\n",
      "            \"duration\": 543,\n",
      "            \"risetime\": 1571112342\n",
      "        },\n",
      "        {\n",
      "            \"duration\": 143,\n",
      "            \"risetime\": 1571136355\n",
      "        },\n",
      "        {\n",
      "            \"duration\": 632,\n",
      "            \"risetime\": 1571141949\n",
      "        },\n",
      "        {\n",
      "            \"duration\": 471,\n",
      "            \"risetime\": 1571147814\n",
      "        }\n",
      "    ]\n",
      "}\n"
     ]
    }
   ],
   "source": [
    "jprint (response.json())"
   ]
  },
  {
   "cell_type": "code",
   "execution_count": 28,
   "metadata": {},
   "outputs": [
    {
     "name": "stdout",
     "output_type": "stream",
     "text": [
      "[\n",
      "    {\n",
      "        \"duration\": 626,\n",
      "        \"risetime\": 1571106498\n",
      "    },\n",
      "    {\n",
      "        \"duration\": 543,\n",
      "        \"risetime\": 1571112342\n",
      "    },\n",
      "    {\n",
      "        \"duration\": 143,\n",
      "        \"risetime\": 1571136355\n",
      "    },\n",
      "    {\n",
      "        \"duration\": 632,\n",
      "        \"risetime\": 1571141949\n",
      "    },\n",
      "    {\n",
      "        \"duration\": 471,\n",
      "        \"risetime\": 1571147814\n",
      "    }\n",
      "]\n"
     ]
    }
   ],
   "source": [
    "pass_time = response.json()['response']\n",
    "jprint(pass_time)"
   ]
  },
  {
   "cell_type": "code",
   "execution_count": 29,
   "metadata": {},
   "outputs": [
    {
     "name": "stdout",
     "output_type": "stream",
     "text": [
      "[1571106498, 1571112342, 1571136355, 1571141949, 1571147814]\n"
     ]
    }
   ],
   "source": [
    "risetime = []\n",
    "\n",
    "for d in pass_time:\n",
    "    time = d['risetime']\n",
    "    risetime.append(time)\n",
    "    \n",
    "print(risetime)    \n",
    "    "
   ]
  },
  {
   "cell_type": "code",
   "execution_count": 30,
   "metadata": {},
   "outputs": [
    {
     "name": "stdout",
     "output_type": "stream",
     "text": [
      "2019-10-14 22:28:18\n",
      "2019-10-15 00:05:42\n",
      "2019-10-15 06:45:55\n",
      "2019-10-15 08:19:09\n",
      "2019-10-15 09:56:54\n"
     ]
    }
   ],
   "source": [
    "from datetime import datetime\n",
    "\n",
    "times = []\n",
    "\n",
    "for rt in risetime:\n",
    "    time = datetime.fromtimestamp(rt)\n",
    "    times.append(time)\n",
    "    print (time)"
   ]
  },
  {
   "cell_type": "markdown",
   "metadata": {},
   "source": [
    "---"
   ]
  },
  {
   "cell_type": "markdown",
   "metadata": {},
   "source": [
    "# Web Scrapping"
   ]
  },
  {
   "cell_type": "markdown",
   "metadata": {},
   "source": [
    "#### Using beautifulsoup and selenium"
   ]
  },
  {
   "cell_type": "code",
   "execution_count": 43,
   "metadata": {},
   "outputs": [
    {
     "name": "stdout",
     "output_type": "stream",
     "text": [
      "Collecting selenium\n",
      "  Downloading https://files.pythonhosted.org/packages/80/d6/4294f0b4bce4de0abf13e17190289f9d0613b0a44e5dd6a7f5ca98459853/selenium-3.141.0-py2.py3-none-any.whl (904kB)\n",
      "Requirement already satisfied: urllib3 in c:\\users\\vaibh\\anaconda3\\lib\\site-packages (from selenium) (1.24.2)\n",
      "Installing collected packages: selenium\n",
      "Successfully installed selenium-3.141.0\n"
     ]
    }
   ],
   "source": [
    "!pip install selenium "
   ]
  },
  {
   "cell_type": "code",
   "execution_count": 45,
   "metadata": {},
   "outputs": [
    {
     "name": "stdout",
     "output_type": "stream",
     "text": [
      "Requirement already satisfied: beautifulsoup4 in c:\\users\\vaibh\\anaconda3\\lib\\site-packages (4.7.1)\n",
      "Requirement already satisfied: soupsieve>=1.2 in c:\\users\\vaibh\\anaconda3\\lib\\site-packages (from beautifulsoup4) (1.8)\n"
     ]
    }
   ],
   "source": [
    "!pip install beautifulsoup4"
   ]
  },
  {
   "cell_type": "code",
   "execution_count": 61,
   "metadata": {},
   "outputs": [],
   "source": [
    "from selenium import webdriver\n",
    "from bs4 import BeautifulSoup as soup\n",
    "import pandas as pd"
   ]
  },
  {
   "cell_type": "code",
   "execution_count": 63,
   "metadata": {},
   "outputs": [],
   "source": [
    "import urllib.request as uReq"
   ]
  },
  {
   "cell_type": "code",
   "execution_count": 64,
   "metadata": {},
   "outputs": [],
   "source": [
    "my_url = 'https://www.flipkart.com/search?q=iphone&sid=tyy%2C4io&as=on&as-show=on&otracker=AS_QueryStore_OrganicAutoSuggest_0_2_na_na_pr&otracker1=AS_QueryStore_OrganicAutoSuggest_0_2_na_na_pr&as-pos=0&as-type=RECENT&suggestionId=iphone&requestId=af82b94c-b641-46dd-adc2-afb06d2b48d5&as-backfill=on' "
   ]
  },
  {
   "cell_type": "code",
   "execution_count": 66,
   "metadata": {},
   "outputs": [],
   "source": [
    "uClient = uReq.urlopen(my_url) #usibg urllib.request to open the url"
   ]
  },
  {
   "cell_type": "code",
   "execution_count": 67,
   "metadata": {},
   "outputs": [],
   "source": [
    "page_html = uClient.read()"
   ]
  },
  {
   "cell_type": "code",
   "execution_count": 68,
   "metadata": {},
   "outputs": [],
   "source": [
    "uClient.close()"
   ]
  },
  {
   "cell_type": "code",
   "execution_count": 69,
   "metadata": {},
   "outputs": [],
   "source": [
    "page_soup = soup (page_html,\"html.parser\") #bs for parsing the html stuff which we loaded"
   ]
  },
  {
   "cell_type": "code",
   "execution_count": 76,
   "metadata": {},
   "outputs": [],
   "source": [
    "containers = page_soup.findAll(\"div\",{\"class\":\"_3O0U0u\"}) "
   ]
  },
  {
   "cell_type": "code",
   "execution_count": 77,
   "metadata": {},
   "outputs": [
    {
     "name": "stdout",
     "output_type": "stream",
     "text": [
      "24\n"
     ]
    }
   ],
   "source": [
    "print (len(containers))"
   ]
  },
  {
   "cell_type": "code",
   "execution_count": 78,
   "metadata": {
    "collapsed": true
   },
   "outputs": [
    {
     "name": "stdout",
     "output_type": "stream",
     "text": [
      "<div class=\"_3O0U0u\">\n",
      " <div data-id=\"MOBEMK62HZHC6TFU\" style=\"width:100%\">\n",
      "  <div class=\"_1UoZlX\">\n",
      "   <a class=\"_31qSD5\" href=\"/apple-iphone-7-gold-32-gb/p/itmen6daf99nhhjz?pid=MOBEMK62HZHC6TFU&amp;srno=s_1_1&amp;otracker=AS_QueryStore_OrganicAutoSuggest_0_2_na_na_pr&amp;otracker1=AS_QueryStore_OrganicAutoSuggest_0_2_na_na_pr&amp;lid=LSTMOBEMK62HZHC6TFUHGVQFY&amp;fm=organic&amp;iid=56dfe8c0-041a-402c-9ac7-7d3b9149c903.MOBEMK62HZHC6TFU.SEARCH&amp;ssid=buotofkmv40000001571117881502&amp;qH=0b3f45b266a97d70\" rel=\"noopener noreferrer\" target=\"_blank\">\n",
      "    <div class=\"_3SQWE6\">\n",
      "     <div class=\"_1OCn9C\">\n",
      "      <div>\n",
      "       <div class=\"_3BTv9X\" style=\"height:200px;width:200px\">\n",
      "        <img alt=\"Apple iPhone 7 (Gold, 32 GB)\" class=\"_1Nyybr\" src=\"//img1a.flixcart.com/www/linchpin/fk-cp-zion/img/placeholder_9951d0.svg\"/>\n",
      "       </div>\n",
      "      </div>\n",
      "     </div>\n",
      "     <div class=\"_2lesQu\">\n",
      "      <div class=\"_1O_CiZ\">\n",
      "       <span class=\"_1iHA1p\">\n",
      "        <div class=\"_2kFyHg\">\n",
      "         <label>\n",
      "          <input class=\"_3uUUD5\" readonly=\"\" type=\"checkbox\"/>\n",
      "          <div class=\"_1p7h2j\">\n",
      "          </div>\n",
      "         </label>\n",
      "        </div>\n",
      "       </span>\n",
      "       <label class=\"_10TB-Q\">\n",
      "        <span>\n",
      "         Add to Compare\n",
      "        </span>\n",
      "       </label>\n",
      "      </div>\n",
      "     </div>\n",
      "     <div class=\"_3gDSOa _32A6AP\">\n",
      "      <div class=\"DsQ2eg\">\n",
      "       <svg class=\"_2oLiqr\" height=\"16\" viewbox=\"0 0 20 16\" width=\"16\" xmlns=\"http://www.w3.org/2000/svg\">\n",
      "        <path class=\"_35Y7Yo\" d=\"M8.695 16.682C4.06 12.382 1 9.536 1 6.065 1 3.219 3.178 1 5.95 1c1.566 0 3.069.746 4.05 1.915C10.981 1.745 12.484 1 14.05 1 16.822 1 19 3.22 19 6.065c0 3.471-3.06 6.316-7.695 10.617L10 17.897l-1.305-1.215z\" fill=\"#2874F0\" fill-rule=\"evenodd\" opacity=\".9\" stroke=\"#FFF\">\n",
      "        </path>\n",
      "       </svg>\n",
      "      </div>\n",
      "     </div>\n",
      "    </div>\n",
      "    <div class=\"_1-2Iqu row\">\n",
      "     <div class=\"col col-7-12\">\n",
      "      <div class=\"_3wU53n\">\n",
      "       Apple iPhone 7 (Gold, 32 GB)\n",
      "      </div>\n",
      "      <div class=\"niH0FQ\">\n",
      "       <span class=\"_2_KrJI\" id=\"productRating_LSTMOBEMK62HZHC6TFUHGVQFY_MOBEMK62HZHC6TFU_\">\n",
      "        <div class=\"hGSR34\">\n",
      "         4.5\n",
      "         <img class=\"_2lQ_WZ\" src=\"data:image/svg+xml;base64,PHN2ZyB4bWxucz0iaHR0cDovL3d3dy53My5vcmcvMjAwMC9zdmciIHdpZHRoPSIxMyIgaGVpZ2h0PSIxMiI+PHBhdGggZmlsbD0iI0ZGRiIgZD0iTTYuNSA5LjQzOWwtMy42NzQgMi4yMy45NC00LjI2LTMuMjEtMi44ODMgNC4yNTQtLjQwNEw2LjUuMTEybDEuNjkgNC4wMSA0LjI1NC40MDQtMy4yMSAyLjg4Mi45NCA0LjI2eiIvPjwvc3ZnPg==\"/>\n",
      "        </div>\n",
      "       </span>\n",
      "       <span class=\"_38sUEc\">\n",
      "        <span>\n",
      "         <span>\n",
      "          62,081 Ratings\n",
      "         </span>\n",
      "         <span class=\"_1VpSqZ\">\n",
      "          &amp;\n",
      "         </span>\n",
      "         <span>\n",
      "          7,037 Reviews\n",
      "         </span>\n",
      "        </span>\n",
      "       </span>\n",
      "      </div>\n",
      "      <div class=\"_3ULzGw\">\n",
      "       <ul class=\"vFw0gD\">\n",
      "        <li class=\"tVe95H\">\n",
      "         32 GB ROM |\n",
      "        </li>\n",
      "        <li class=\"tVe95H\">\n",
      "         11.94 cm (4.7 inch) Retina HD Display\n",
      "        </li>\n",
      "        <li class=\"tVe95H\">\n",
      "         12MP Rear Camera | 7MP Front Camera\n",
      "        </li>\n",
      "        <li class=\"tVe95H\">\n",
      "         Apple A10 Fusion 64-bit processor and Embedded M10 Motion Co-processor\n",
      "        </li>\n",
      "        <li class=\"tVe95H\">\n",
      "         iOS 13 Compatible\n",
      "        </li>\n",
      "        <li class=\"tVe95H\">\n",
      "         Brand Warranty of 1 Year\n",
      "        </li>\n",
      "       </ul>\n",
      "      </div>\n",
      "     </div>\n",
      "     <div class=\"col col-5-12 _2o7WAb\">\n",
      "      <div class=\"_6BWGkk\">\n",
      "       <div class=\"_1uv9Cb\">\n",
      "        <div class=\"_1vC4OE _2rQ-NK\">\n",
      "         ₹26,999\n",
      "        </div>\n",
      "        <div class=\"_3auQ3N _2GcJzG\">\n",
      "         ₹\n",
      "         <!-- -->\n",
      "         29,900\n",
      "        </div>\n",
      "        <div class=\"VGWI6T\">\n",
      "         <span>\n",
      "          9% off\n",
      "         </span>\n",
      "        </div>\n",
      "       </div>\n",
      "      </div>\n",
      "      <div class=\"_3n6o0t\">\n",
      "       <img height=\"21\" src=\"//img1a.flixcart.com/www/linchpin/fk-cp-zion/img/fa_8b4b59.png\"/>\n",
      "      </div>\n",
      "      <div class=\"_2nE8_R\">\n",
      "       <div class=\"_3_G5Wj\" style=\"color:#000000;font-size:14px;font-family:inherit;font-weight:normal\">\n",
      "        No Cost EMI\n",
      "       </div>\n",
      "      </div>\n",
      "      <div class=\"_2nE8_R\">\n",
      "       <div class=\"_3_G5Wj\" style=\"color:#000000;font-size:14px;font-family:inherit;font-weight:normal\">\n",
      "        Upto\n",
      "       </div>\n",
      "       <div class=\"_3_G5Wj\" style=\"color:#000000;font-size:14px;font-family:inherit;font-weight:bold\">\n",
      "        ₹11,900\n",
      "       </div>\n",
      "       <div class=\"_3_G5Wj\" style=\"color:#000000;font-size:14px;font-family:inherit;font-weight:normal\">\n",
      "        Off on Exchange\n",
      "       </div>\n",
      "      </div>\n",
      "     </div>\n",
      "    </div>\n",
      "   </a>\n",
      "  </div>\n",
      " </div>\n",
      "</div>\n"
     ]
    }
   ],
   "source": [
    "print(soup.prettify(containers[0]))"
   ]
  },
  {
   "cell_type": "code",
   "execution_count": 79,
   "metadata": {},
   "outputs": [],
   "source": [
    "container = containers[0]"
   ]
  },
  {
   "cell_type": "code",
   "execution_count": 80,
   "metadata": {},
   "outputs": [
    {
     "name": "stdout",
     "output_type": "stream",
     "text": [
      "Apple iPhone 7 (Gold, 32 GB)\n"
     ]
    }
   ],
   "source": [
    "print(container.div.img[\"alt\"])"
   ]
  },
  {
   "cell_type": "code",
   "execution_count": 81,
   "metadata": {},
   "outputs": [],
   "source": [
    "price = container.findAll(\"div\",{\"class\":\"col col-5-12 _2o7WAb\"})"
   ]
  },
  {
   "cell_type": "code",
   "execution_count": 82,
   "metadata": {},
   "outputs": [
    {
     "name": "stdout",
     "output_type": "stream",
     "text": [
      "₹26,999₹29,9009% offNo Cost EMIUpto ₹11,900 Off on Exchange\n"
     ]
    }
   ],
   "source": [
    "print (price[0].text)"
   ]
  },
  {
   "cell_type": "code",
   "execution_count": 86,
   "metadata": {},
   "outputs": [],
   "source": [
    "rating = container.findAll(\"div\",{\"class\":\"niH0FQ\"})"
   ]
  },
  {
   "cell_type": "code",
   "execution_count": 87,
   "metadata": {},
   "outputs": [
    {
     "name": "stdout",
     "output_type": "stream",
     "text": [
      "4.562,081 Ratings & 7,037 Reviews\n"
     ]
    }
   ],
   "source": [
    "print (rating[0].text)"
   ]
  },
  {
   "cell_type": "code",
   "execution_count": 96,
   "metadata": {},
   "outputs": [],
   "source": [
    "filename = \"products.csv\""
   ]
  },
  {
   "cell_type": "code",
   "execution_count": 97,
   "metadata": {},
   "outputs": [
    {
     "data": {
      "text/plain": [
       "28"
      ]
     },
     "execution_count": 97,
     "metadata": {},
     "output_type": "execute_result"
    }
   ],
   "source": [
    "f = open(filename,\"w\")\n",
    "headers= \"Product_Name,Pricing,Rating\\n\"\n",
    "f.write(headers)"
   ]
  },
  {
   "cell_type": "code",
   "execution_count": 99,
   "metadata": {},
   "outputs": [
    {
     "name": "stdout",
     "output_type": "stream",
     "text": [
      "product_name:Apple iPhone 7 (Gold, 32 GB)\n",
      "price:₹26,999₹29,9009% offNo Cost EMIUpto ₹11,900 Off on Exchange\n",
      "rating:4.562,081 Ratings & 7,037 Reviews\n",
      "Apple iPhone 7 (Gold| 32 GB),Rs.26999,4.562,081\n",
      "\n",
      "product_name:Apple iPhone 7 (Silver, 32 GB)\n",
      "price:₹26,999₹29,9009% offNo Cost EMIUpto ₹11,900 Off on Exchange\n",
      "rating:4.562,081 Ratings & 7,037 Reviews\n",
      "Apple iPhone 7 (Silver| 32 GB),Rs.26999,4.562,081\n",
      "\n",
      "product_name:Apple iPhone 8 (Space Grey, 64 GB)\n",
      "price:₹35,999₹39,9009% offNo Cost EMIUpto ₹11,900 Off on Exchange\n",
      "rating:4.63,827 Ratings & 296 Reviews\n",
      "Apple iPhone 8 (Space Grey| 64 GB),Rs.35999,4.63,827\n",
      "\n",
      "product_name:Apple iPhone 8 (Silver, 64 GB)\n",
      "price:₹35,999₹39,9009% offNo Cost EMIUpto ₹11,900 Off on Exchange\n",
      "rating:4.63,827 Ratings & 296 Reviews\n",
      "Apple iPhone 8 (Silver| 64 GB),Rs.35999,4.63,827\n",
      "\n",
      "product_name:Apple iPhone 6s (Space Grey, 32 GB)\n",
      "price:₹22,999₹29,90023% offNo Cost EMIUpto ₹11,900 Off on Exchange\n",
      "rating:4.588,435 Ratings & 9,104 Reviews\n",
      "Apple iPhone 6s (Space Grey| 32 GB),Rs.22999,4.588,435\n",
      "\n",
      "product_name:Apple iPhone 11 Pro (Space Grey, 256 GB)\n",
      "price:₹1,13,900No Cost EMIUpto ₹11,900 Off on Exchange\n",
      "rating:4.7233 Ratings & 26 Reviews\n",
      "Apple iPhone 11 Pro (Space Grey| 256 GB),Rs.113900No Cost ,4.7233\n",
      "\n",
      "product_name:Apple iPhone 6s (Gold, 32 GB)\n",
      "price:₹22,999₹29,90023% offNo Cost EMIUpto ₹11,900 Off on Exchange\n",
      "rating:4.588,435 Ratings & 9,104 Reviews\n",
      "Apple iPhone 6s (Gold| 32 GB),Rs.22999,4.588,435\n",
      "\n",
      "product_name:Apple iPhone X (Space Gray, 64 GB)\n",
      "price:₹59,999₹91,90034% offNo Cost EMIUpto ₹11,900 Off on Exchange\n",
      "rating:4.69,803 Ratings & 824 Reviews\n",
      "Apple iPhone X (Space Gray| 64 GB),Rs.59999,4.69,803\n",
      "\n",
      "product_name:Apple iPhone 6s (Rose Gold, 32 GB)\n",
      "price:₹22,999₹29,90023% offNo Cost EMIUpto ₹11,900 Off on Exchange\n",
      "rating:4.588,435 Ratings & 9,104 Reviews\n",
      "Apple iPhone 6s (Rose Gold| 32 GB),Rs.22999,4.588,435\n",
      "\n",
      "product_name:Apple iPhone 11 (Purple, 256 GB)\n",
      "price:₹79,900No Cost EMIUpto ₹11,900 Off on Exchange\n",
      "rating:4.8656 Ratings & 95 Reviews\n",
      "Apple iPhone 11 (Purple| 256 GB),Rs.79900No Cost ,4.8656\n",
      "\n",
      "product_name:Apple iPhone 11 Pro (Gold, 256 GB)\n",
      "price:₹1,13,900No Cost EMIUpto ₹11,900 Off on Exchange\n",
      "rating:4.7233 Ratings & 26 Reviews\n",
      "Apple iPhone 11 Pro (Gold| 256 GB),Rs.113900No Cost ,4.7233\n",
      "\n",
      "product_name:Apple iPhone XR (Black, 64 GB)\n",
      "price:₹50,900₹63,99920% off\n",
      "rating:4.65,334 Ratings & 460 Reviews\n",
      "Apple iPhone XR (Black| 64 GB),Rs.50900,4.65,334\n",
      "\n",
      "product_name:Apple iPhone 11 (Red, 256 GB)\n",
      "price:₹79,900No Cost EMIUpto ₹11,900 Off on Exchange\n",
      "rating:4.8656 Ratings & 95 Reviews\n",
      "Apple iPhone 11 (Red| 256 GB),Rs.79900No Cost ,4.8656\n",
      "\n",
      "product_name:Apple iPhone XR ((PRODUCT)RED, 64 GB)\n",
      "price:₹50,900₹63,99920% off\n",
      "rating:4.65,334 Ratings & 460 Reviews\n",
      "Apple iPhone XR ((PRODUCT)RED| 64 GB),Rs.50900,4.65,334\n",
      "\n",
      "product_name:Apple iPhone 11 Pro (Silver, 256 GB)\n",
      "price:₹1,13,900No Cost EMIUpto ₹11,900 Off on Exchange\n",
      "rating:4.7233 Ratings & 26 Reviews\n",
      "Apple iPhone 11 Pro (Silver| 256 GB),Rs.113900No Cost ,4.7233\n",
      "\n",
      "product_name:Apple iPhone XR (White, 64 GB)\n",
      "price:₹50,900₹63,99920% off\n",
      "rating:4.65,334 Ratings & 460 Reviews\n",
      "Apple iPhone XR (White| 64 GB),Rs.50900,4.65,334\n",
      "\n",
      "product_name:Apple iPhone 6s (Silver, 32 GB)\n",
      "price:₹26,949₹29,6018% off\n",
      "rating:4.588,435 Ratings & 9,104 Reviews\n",
      "Apple iPhone 6s (Silver| 32 GB),Rs.26949,4.588,435\n",
      "\n",
      "product_name:Apple iPhone XR (Black, 128 GB)\n",
      "price:₹56,900₹69,49918% off\n",
      "rating:4.65,334 Ratings & 460 Reviews\n",
      "Apple iPhone XR (Black| 128 GB),Rs.56900,4.65,334\n",
      "\n",
      "product_name:Apple iPhone XR (White, 128 GB)\n",
      "price:₹56,799₹69,49918% off\n",
      "rating:4.65,334 Ratings & 460 Reviews\n",
      "Apple iPhone XR (White| 128 GB),Rs.56799,4.65,334\n",
      "\n",
      "product_name:Apple iPhone 11 Pro Max (Silver, 512 GB)\n",
      "price:₹1,41,900No Cost EMIUpto ₹11,900 Off on Exchange\n",
      "rating:4.8167 Ratings & 24 Reviews\n",
      "Apple iPhone 11 Pro Max (Silver| 512 GB),Rs.141900No Cost ,4.8167\n",
      "\n",
      "product_name:Apple iPhone 11 Pro (Space Grey, 512 GB)\n",
      "price:₹1,31,900No Cost EMIUpto ₹11,900 Off on Exchange\n",
      "rating:4.7233 Ratings & 26 Reviews\n",
      "Apple iPhone 11 Pro (Space Grey| 512 GB),Rs.131900No Cost ,4.7233\n",
      "\n",
      "product_name:Apple iPhone 11 (Yellow, 256 GB)\n",
      "price:₹79,900No Cost EMIUpto ₹11,900 Off on Exchange\n",
      "rating:4.8656 Ratings & 95 Reviews\n",
      "Apple iPhone 11 (Yellow| 256 GB),Rs.79900No Cost ,4.8656\n",
      "\n",
      "product_name:Apple iPhone 7 (Black, 32 GB)\n",
      "price:₹26,999₹29,9009% offNo Cost EMIUpto ₹11,900 Off on Exchange\n",
      "rating:4.562,081 Ratings & 7,037 Reviews\n",
      "Apple iPhone 7 (Black| 32 GB),Rs.26999,4.562,081\n",
      "\n",
      "product_name:Apple iPhone 11 (Black, 64 GB)\n",
      "price:₹64,900No Cost EMIUpto ₹11,900 Off on Exchange\n",
      "rating:4.8656 Ratings & 95 Reviews\n",
      "Apple iPhone 11 (Black| 64 GB),Rs.64900No Cost ,4.8656\n",
      "\n"
     ]
    }
   ],
   "source": [
    "for container in containers:\n",
    "    product_name = container.div.img[\"alt\"]\n",
    "    price_container = container.findAll(\"div\",{\"class\":\"col col-5-12 _2o7WAb\"})\n",
    "    price = price_container[0].text.strip()\n",
    "    rating_container = container.findAll(\"div\",{\"class\":\"niH0FQ\"})\n",
    "    rating = rating_container[0].text\n",
    "    print (\"product_name:\" + product_name)\n",
    "    print(\"price:\" + price)\n",
    "    print(\"rating:\" + rating)\n",
    "    trim_price = ''.join(price.split(',')) \n",
    "    rm_rupee = trim_price.split(\"₹\")\n",
    "    add_rs_price = \"Rs.\" + rm_rupee[1]\n",
    "    split_price = add_rs_price.split('E')\n",
    "    final_price = split_price[0]\n",
    "\n",
    "    split_rating = rating.split(\" \")\n",
    "    final_rating = split_rating[0]\n",
    "\n",
    "    print (product_name.replace(\",\",\"|\") + \",\" + final_price + \",\" + final_rating + \"\\n\")\n",
    "    f.write (product_name.replace(\",\",\"|\") + \",\" + final_price + \",\" + final_rating + \"\\n\")\n",
    "f.close()    "
   ]
  },
  {
   "cell_type": "code",
   "execution_count": 93,
   "metadata": {},
   "outputs": [
    {
     "name": "stdout",
     "output_type": "stream",
     "text": [
      "Apple iPhone 11 (Black| 64 GB),Rs.64900No Cost ,4.8656\n",
      "\n"
     ]
    }
   ],
   "source": [
    "\n",
    "\n"
   ]
  },
  {
   "cell_type": "markdown",
   "metadata": {},
   "source": [
    "---"
   ]
  },
  {
   "cell_type": "code",
   "execution_count": null,
   "metadata": {},
   "outputs": [],
   "source": []
  }
 ],
 "metadata": {
  "kernelspec": {
   "display_name": "Python 3",
   "language": "python",
   "name": "python3"
  },
  "language_info": {
   "codemirror_mode": {
    "name": "ipython",
    "version": 3
   },
   "file_extension": ".py",
   "mimetype": "text/x-python",
   "name": "python",
   "nbconvert_exporter": "python",
   "pygments_lexer": "ipython3",
   "version": "3.7.3"
  }
 },
 "nbformat": 4,
 "nbformat_minor": 2
}
